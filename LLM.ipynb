{
 "cells": [
  {
   "cell_type": "markdown",
   "id": "94af3aa3-963b-40da-b66b-36169b03fe3b",
   "metadata": {},
   "source": [
    "## **Import the required libraries**\n"
   ]
  },
  {
   "cell_type": "raw",
   "id": "e63be067-9756-4ab7-ad31-d4d06bdfa85a",
   "metadata": {
    "vscode": {
     "languageId": "raw"
    }
   },
   "source": [
    "IN TERMINAL RUN\n",
    "pip install virtualenv \n",
    "virtualenv my_env # create a virtual environment named my_env\n",
    "source my_env/bin/activate # activate my_env\n",
    "\n",
    "# installing necessary pacakges in my_env\n",
    "python3.11 -m pip install gradio==5.12.0 \n",
    "python3.11 -m pip install ibm_watsonx_ai==1.1.20\n",
    "python3.11 -m pip install email-validator==2.1.1 \n",
    "python3.11 -m pip install numpy==1.26.4 \n",
    "python3.11 -m pip install pandas==2.1.4\n",
    "\n",
    "\n",
    "pip install ibm-watson-machine-learning \n",
    "# you can also specifiy the package version such as 1.1.20"
   ]
  },
  {
   "cell_type": "code",
   "execution_count": null,
   "id": "e2716d37-cf6c-4855-bfe1-8a89687a1002",
   "metadata": {},
   "outputs": [],
   "source": [
    "# Surpress warnings:\n",
    "def warn(*args, **kwargs):\n",
    "    pass\n",
    "import warnings\n",
    "warnings.warn = warn"
   ]
  },
  {
   "cell_type": "raw",
   "id": "4044805f-edff-49e4-ab2b-b3fb52587c97",
   "metadata": {
    "vscode": {
     "languageId": "raw"
    }
   },
   "source": [
    "run gradio.py\n",
    "python3.11 gradio_demo.py"
   ]
  }
 ],
 "metadata": {
  "kernelspec": {
   "display_name": "Python (Pyodide)",
   "language": "python",
   "name": "python"
  },
  "language_info": {
   "codemirror_mode": {
    "name": "python",
    "version": 3
   },
   "file_extension": ".py",
   "mimetype": "text/x-python",
   "name": "python",
   "nbconvert_exporter": "python",
   "pygments_lexer": "ipython3",
   "version": "3.8"
  },
  "prev_pub_hash": "c38626bfb2a4d62e21d4b34234dd2d6ada473733f3541d1e25de3f51adec1fff"
 },
 "nbformat": 4,
 "nbformat_minor": 4
}
